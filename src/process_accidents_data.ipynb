{
  "nbformat": 4,
  "nbformat_minor": 0,
  "metadata": {
    "colab": {
      "provenance": []
    },
    "kernelspec": {
      "name": "python3",
      "display_name": "Python 3"
    },
    "language_info": {
      "name": "python"
    }
  },
  "cells": [
    {
      "cell_type": "markdown",
      "source": [
        "### Accidents de trànsit a Catalunya\n",
        "\n",
        "En aquest notebook es processaran les dades necessàries per la Pràctica de l'assignatura de Visualització de dades del Màster de Ciència de Dades de la UOC.\n",
        "\n",
        "El conjunt de dades triat correspon als Accidents de trànsit amb morts o ferits greus a Catalunya entre el 2011 i el 2021, que es poden trobar a [Dades Obertes Catalunya](https://analisi.transparenciacatalunya.cat/Transport/Accidents-de-tr-nsit-amb-morts-o-ferits-greus-a-Ca/rmgc-ncpb/about_data).\n",
        "\n",
        "S'obtindran diversos fitxers en format .csv per després ser representats mitjançant [Flourish](https://flourish.studio/)."
      ],
      "metadata": {
        "id": "mWe_eVttzh4H"
      }
    },
    {
      "cell_type": "markdown",
      "source": [
        "En primer lloc carreguem les llibreries necessàries."
      ],
      "metadata": {
        "id": "skHXKgZI0blc"
      }
    },
    {
      "cell_type": "code",
      "execution_count": 1,
      "metadata": {
        "id": "ZmxILkZi-e4q"
      },
      "outputs": [],
      "source": [
        "import pandas as pd\n",
        "import numpy as np\n",
        "import matplotlib.pyplot as plt"
      ]
    },
    {
      "cell_type": "markdown",
      "source": [
        "Carreguem les dades mitjançant la llibreria Pandas."
      ],
      "metadata": {
        "id": "PB6_uzAO0hpM"
      }
    },
    {
      "cell_type": "code",
      "source": [
        "data = pd.read_csv(\"Accidents_de_tr_nsit_amb_morts_o_ferits_greus_a_Catalunya_20240108.csv\")"
      ],
      "metadata": {
        "id": "TKGYf2GS-uEU"
      },
      "execution_count": 2,
      "outputs": []
    },
    {
      "cell_type": "markdown",
      "source": [
        "Mostrem les variables disponibles del conjunt de dades."
      ],
      "metadata": {
        "id": "WzdSFY280k89"
      }
    },
    {
      "cell_type": "code",
      "source": [
        "data.columns"
      ],
      "metadata": {
        "colab": {
          "base_uri": "https://localhost:8080/"
        },
        "id": "sbF5Bruc-yvW",
        "outputId": "55995e17-aad8-4226-e185-7efd0a6235e7"
      },
      "execution_count": 3,
      "outputs": [
        {
          "output_type": "execute_result",
          "data": {
            "text/plain": [
              "Index(['Any', 'zona', 'dat', 'via', 'pk', 'nomMun', 'nomCom', 'nomDem',\n",
              "       'F_MORTS', 'F_FERITS_GREUS', 'F_FERITS_LLEUS', 'F_VICTIMES',\n",
              "       'F_UNITATS_IMPLICADES', 'F_VIANANTS_IMPLICADES',\n",
              "       'F_BICICLETES_IMPLICADES', 'F_CICLOMOTORS_IMPLICADES',\n",
              "       'F_MOTOCICLETES_IMPLICADES', 'F_VEH_LLEUGERS_IMPLICADES',\n",
              "       'F_VEH_PESANTS_IMPLICADES', 'F_ALTRES_UNIT_IMPLICADES',\n",
              "       'F_UNIT_DESC_IMPLICADES', 'C_VELOCITAT_VIA', 'D_ACC_AMB_FUGA',\n",
              "       'D_BOIRA', 'D_CARACT_ENTORN', 'D_CARRIL_ESPECIAL',\n",
              "       'D_CIRCULACIO_MESURES_ESP', 'D_CLIMATOLOGIA', 'D_FUNC_ESP_VIA',\n",
              "       'D_GRAVETAT', 'D_INFLUIT_BOIRA', 'D_INFLUIT_CARACT_ENTORN',\n",
              "       'D_INFLUIT_CIRCULACIO', 'D_INFLUIT_ESTAT_CLIMA', 'D_INFLUIT_INTEN_VENT',\n",
              "       'D_INFLUIT_LLUMINOSITAT', 'D_INFLUIT_MESU_ESP', 'D_INFLUIT_OBJ_CALCADA',\n",
              "       'D_INFLUIT_SOLCS_RASES', 'D_INFLUIT_VISIBILITAT', 'D_INTER_SECCIO',\n",
              "       'D_LIMIT_VELOCITAT', 'D_LLUMINOSITAT', 'D_REGULACIO_PRIORITAT',\n",
              "       'D_SENTITS_VIA', 'D_SUBTIPUS_ACCIDENT', 'D_SUBTIPUS_TRAM', 'D_SUBZONA',\n",
              "       'D_SUPERFICIE', 'D_TIPUS_VIA', 'D_TITULARITAT_VIA',\n",
              "       'D_TRACAT_ALTIMETRIC', 'D_VENT', 'grupDiaLab', 'hor', 'grupHor',\n",
              "       'tipAcc', 'tipDia'],\n",
              "      dtype='object')"
            ]
          },
          "metadata": {},
          "execution_count": 3
        }
      ]
    },
    {
      "cell_type": "markdown",
      "source": [
        "#### Influències accident"
      ],
      "metadata": {
        "id": "X0BLVBF10t8k"
      }
    },
    {
      "cell_type": "code",
      "source": [
        "subset = data[['D_INFLUIT_BOIRA', 'D_INFLUIT_CARACT_ENTORN',\n",
        "       'D_INFLUIT_CIRCULACIO', 'D_INFLUIT_ESTAT_CLIMA', 'D_INFLUIT_INTEN_VENT',\n",
        "       'D_INFLUIT_LLUMINOSITAT', 'D_INFLUIT_MESU_ESP', 'D_INFLUIT_OBJ_CALCADA',\n",
        "       'D_INFLUIT_SOLCS_RASES', 'D_INFLUIT_VISIBILITAT']].apply(lambda x: x.value_counts()).T.stack().reset_index()\n",
        "\n",
        "subset = subset[subset[\"level_1\"] == \"Si\"][[\"level_0\", 0]]\n",
        "\n",
        "subset.columns = [\"Influència\", \"Nombre accidents\"]\n",
        "\n",
        "subset[\"Influència\"] = [\"Boira\", \"Característiques entorn\", \"Circulació\", \"Condicions meteorològiques\", \"Intensitat del vent\", \"Lluminositat\", \"Mesures Especials\", \"Objecte a la calçada\", \"Solcs a les rases\", \"Visibilitat\"]\n",
        "\n",
        "subset.to_csv(\"influencies_accidents_nombre.csv\")"
      ],
      "metadata": {
        "id": "MIrS8nMYTd6T"
      },
      "execution_count": 27,
      "outputs": []
    },
    {
      "cell_type": "markdown",
      "source": [
        "#### Recompte dia i hora accident"
      ],
      "metadata": {
        "id": "cqCXlUkk0_sO"
      }
    },
    {
      "cell_type": "code",
      "source": [
        "data[\"grupHor\"].value_counts().T.reset_index().to_csv(\"hora_accidents_nombre.csv\")\n",
        "data[\"grupDiaLab\"].value_counts().T.reset_index().to_csv(\"dia_accidents_nombre.csv\")"
      ],
      "metadata": {
        "id": "CHDqfLTtXK5T"
      },
      "execution_count": 42,
      "outputs": []
    },
    {
      "cell_type": "markdown",
      "source": [
        "#### Recompte segons tipus d'accident"
      ],
      "metadata": {
        "id": "_BuPJmEp02ds"
      }
    },
    {
      "cell_type": "code",
      "source": [
        "data[\"tipAcc\"].value_counts().T.reset_index().to_csv(\"tipus_accidents_nombre.csv\")"
      ],
      "metadata": {
        "id": "nszKLPKpWYTb"
      },
      "execution_count": 37,
      "outputs": []
    },
    {
      "cell_type": "markdown",
      "source": [
        "#### Recompte víctimes accidents"
      ],
      "metadata": {
        "id": "fo3dVUIe1Pm1"
      }
    },
    {
      "cell_type": "code",
      "source": [
        "data[[\"F_MORTS\", \"F_FERITS_GREUS\", \"F_FERITS_LLEUS\", \"F_VICTIMES\"]].sum().to_csv(\"victimes_global.csv\")"
      ],
      "metadata": {
        "id": "6rHeqrcEl6GM"
      },
      "execution_count": null,
      "outputs": []
    },
    {
      "cell_type": "markdown",
      "source": [
        "#### Mortalitat segons velocitat i comarca"
      ],
      "metadata": {
        "id": "fLRQMqpn1U1k"
      }
    },
    {
      "cell_type": "code",
      "source": [
        "data[\"MORTALITAT\"] = data[\"F_MORTS\"] / data[\"F_VICTIMES\"]\n",
        "\n",
        "data[[\"MORTALITAT\", \"C_VELOCITAT_VIA\"]].groupby(\"C_VELOCITAT_VIA\").mean().sort_values(\"MORTALITAT\", ascending=False).to_csv(\"mortalitat_velocitat_via.csv\")\n",
        "\n",
        "data[[\"MORTALITAT\", \"nomCom\"]].groupby(\"nomCom\").mean().sort_values(\"MORTALITAT\", ascending=False).to_csv(\"mortalitat_comarca.csv\")"
      ],
      "metadata": {
        "id": "EFCVVS81NNT-"
      },
      "execution_count": 40,
      "outputs": []
    },
    {
      "cell_type": "markdown",
      "source": [
        "#### Proporció unitats implicades per comarca"
      ],
      "metadata": {
        "id": "0N1TyWxG1eBG"
      }
    },
    {
      "cell_type": "code",
      "source": [
        "subset = subset = data[[\"nomCom\",\n",
        "               \"F_VIANANTS_IMPLICADES\",\n",
        "               \"F_BICICLETES_IMPLICADES\",\n",
        "               \"F_CICLOMOTORS_IMPLICADES\",\n",
        "               \"F_MOTOCICLETES_IMPLICADES\",\n",
        "               \"F_VEH_LLEUGERS_IMPLICADES\",\n",
        "               \"F_VEH_PESANTS_IMPLICADES\",\n",
        "               \"F_UNITATS_IMPLICADES\"]]\n",
        "\n",
        "subset.columns = [\"NOMCOMAR\", \"Vianants\", \"Bicicletes\", \"Ciclomotors\", \"Motocicletes\", \"Vehicles lleugers\", \"Vehicles pesants\", \"Unitats implicades\"]\n",
        "\n",
        "subset = subset.groupby(\"NOMCOMAR\").sum()\n",
        "\n",
        "subset.divide(np.array(subset[\"Unitats implicades\"]), axis=0).to_csv(\"tipus_vehicle_implicat_freq_comarca.csv\")"
      ],
      "metadata": {
        "id": "EZPek_qRICG_"
      },
      "execution_count": null,
      "outputs": []
    },
    {
      "cell_type": "markdown",
      "source": [
        "#### Evolució tipus de vehicle implicat en accident"
      ],
      "metadata": {
        "id": "N0_BDZli1lgk"
      }
    },
    {
      "cell_type": "code",
      "source": [
        "subset = data[[\"Any\",\n",
        "               \"F_VIANANTS_IMPLICADES\",\n",
        "               \"F_BICICLETES_IMPLICADES\",\n",
        "               \"F_CICLOMOTORS_IMPLICADES\",\n",
        "               \"F_MOTOCICLETES_IMPLICADES\",\n",
        "               \"F_VEH_LLEUGERS_IMPLICADES\",\n",
        "               \"F_VEH_PESANTS_IMPLICADES\"]]\n",
        "\n",
        "subset.columns = [\"Any\", \"Vianants\", \"Bicicletes\", \"Ciclomotors\", \"Motocicletes\", \"Vehicles lleugers\", \"Vehicles pesants\"]\n",
        "\n",
        "\n",
        "subset = subset.groupby(\"Any\").sum()\n",
        "\n",
        "subset.T.to_csv(\"/tipus_vehicle_implicat_evolució.csv\")"
      ],
      "metadata": {
        "id": "8-8DshD55oK4"
      },
      "execution_count": null,
      "outputs": []
    },
    {
      "cell_type": "markdown",
      "source": [
        "#### Recompte tipus vehicle implicat"
      ],
      "metadata": {
        "id": "wKywwf011q_s"
      }
    },
    {
      "cell_type": "code",
      "source": [
        "subset = data[[\"F_VIANANTS_IMPLICADES\",\n",
        "               \"F_BICICLETES_IMPLICADES\",\n",
        "               \"F_CICLOMOTORS_IMPLICADES\",\n",
        "               \"F_MOTOCICLETES_IMPLICADES\",\n",
        "               \"F_VEH_LLEUGERS_IMPLICADES\",\n",
        "               \"F_VEH_PESANTS_IMPLICADES\"]]\n",
        "\n",
        "subset.columns = [\"Vianants\", \"Bicicletes\", \"Ciclomotors\", \"Motocicletes\", \"Vehicles lleugers\", \"Vehicles pesants\"]\n",
        "\n",
        "subset.sum().to_csv(\"tipus_vehicle_implicat_all.csv\")"
      ],
      "metadata": {
        "id": "PbCOBxvIbevk"
      },
      "execution_count": null,
      "outputs": []
    }
  ]
}